{
 "cells": [
  {
   "cell_type": "markdown",
   "id": "7ac2f9e9-9bc9-48e2-9a18-63d6af94241e",
   "metadata": {},
   "source": [
    "\n",
    "## PROJECT TITLE: Optimized Product Recommendation for Enhanced User Experience on Amazon"
   ]
  },
  {
   "cell_type": "code",
   "execution_count": 3,
   "id": "3994d1b2-a604-4d6a-af75-ff23b9b2a586",
   "metadata": {},
   "outputs": [],
   "source": [
    "import pandas as pd\n",
    "import numpy as np\n",
    "import matplotlib.pyplot as plt\n",
    "import seaborn as sns\n",
    "from sklearn.model_selection import train_test_split\n",
    "from sklearn.metrics.pairwise import cosine_similarity"
   ]
  },
  {
   "cell_type": "code",
   "execution_count": 4,
   "id": "c6807502-3e68-40d2-a95d-c5533140356c",
   "metadata": {},
   "outputs": [],
   "source": [
    "data = pd.read_csv('/Users/sivapriya/Downloads/Home_and_Kitchen.csv')"
   ]
  },
  {
   "cell_type": "code",
   "execution_count": 5,
   "id": "ae056180-c05c-4327-8cf1-2229348c9d89",
   "metadata": {},
   "outputs": [],
   "source": [
    "data.columns = ['userId', 'productId', 'Rating', 'Timestamp']"
   ]
  },
  {
   "cell_type": "code",
   "execution_count": 6,
   "id": "359b9da8-d14e-4ece-bcaa-3ff1275f42f1",
   "metadata": {},
   "outputs": [
    {
     "data": {
      "text/html": [
       "<div>\n",
       "<style scoped>\n",
       "    .dataframe tbody tr th:only-of-type {\n",
       "        vertical-align: middle;\n",
       "    }\n",
       "\n",
       "    .dataframe tbody tr th {\n",
       "        vertical-align: top;\n",
       "    }\n",
       "\n",
       "    .dataframe thead th {\n",
       "        text-align: right;\n",
       "    }\n",
       "</style>\n",
       "<table border=\"1\" class=\"dataframe\">\n",
       "  <thead>\n",
       "    <tr style=\"text-align: right;\">\n",
       "      <th></th>\n",
       "      <th>userId</th>\n",
       "      <th>productId</th>\n",
       "      <th>Rating</th>\n",
       "      <th>Timestamp</th>\n",
       "    </tr>\n",
       "  </thead>\n",
       "  <tbody>\n",
       "    <tr>\n",
       "      <th>0</th>\n",
       "      <td>0006564224</td>\n",
       "      <td>A2AMX0AJ2BUDNV</td>\n",
       "      <td>5.0</td>\n",
       "      <td>1270166400</td>\n",
       "    </tr>\n",
       "    <tr>\n",
       "      <th>1</th>\n",
       "      <td>0560467893</td>\n",
       "      <td>A8LUWTIPU9CZB</td>\n",
       "      <td>5.0</td>\n",
       "      <td>1446681600</td>\n",
       "    </tr>\n",
       "    <tr>\n",
       "      <th>2</th>\n",
       "      <td>0560467893</td>\n",
       "      <td>AABKIIHAL0L66</td>\n",
       "      <td>4.0</td>\n",
       "      <td>1446076800</td>\n",
       "    </tr>\n",
       "    <tr>\n",
       "      <th>3</th>\n",
       "      <td>0560467893</td>\n",
       "      <td>A3DA0KIQ5OBK5C</td>\n",
       "      <td>3.0</td>\n",
       "      <td>1441756800</td>\n",
       "    </tr>\n",
       "    <tr>\n",
       "      <th>4</th>\n",
       "      <td>0560467893</td>\n",
       "      <td>A32IGEYSCMEMOD</td>\n",
       "      <td>1.0</td>\n",
       "      <td>1440288000</td>\n",
       "    </tr>\n",
       "  </tbody>\n",
       "</table>\n",
       "</div>"
      ],
      "text/plain": [
       "       userId       productId  Rating   Timestamp\n",
       "0  0006564224  A2AMX0AJ2BUDNV     5.0  1270166400\n",
       "1  0560467893   A8LUWTIPU9CZB     5.0  1446681600\n",
       "2  0560467893   AABKIIHAL0L66     4.0  1446076800\n",
       "3  0560467893  A3DA0KIQ5OBK5C     3.0  1441756800\n",
       "4  0560467893  A32IGEYSCMEMOD     1.0  1440288000"
      ]
     },
     "execution_count": 6,
     "metadata": {},
     "output_type": "execute_result"
    }
   ],
   "source": [
    "data.head(5)"
   ]
  },
  {
   "cell_type": "code",
   "execution_count": 7,
   "id": "f17b707c-6ec0-44dd-aa9e-01e2ad7a582e",
   "metadata": {},
   "outputs": [
    {
     "data": {
      "text/html": [
       "<div>\n",
       "<style scoped>\n",
       "    .dataframe tbody tr th:only-of-type {\n",
       "        vertical-align: middle;\n",
       "    }\n",
       "\n",
       "    .dataframe tbody tr th {\n",
       "        vertical-align: top;\n",
       "    }\n",
       "\n",
       "    .dataframe thead th {\n",
       "        text-align: right;\n",
       "    }\n",
       "</style>\n",
       "<table border=\"1\" class=\"dataframe\">\n",
       "  <thead>\n",
       "    <tr style=\"text-align: right;\">\n",
       "      <th></th>\n",
       "      <th>userId</th>\n",
       "      <th>productId</th>\n",
       "      <th>Rating</th>\n",
       "      <th>Timestamp</th>\n",
       "    </tr>\n",
       "  </thead>\n",
       "  <tbody>\n",
       "    <tr>\n",
       "      <th>21928566</th>\n",
       "      <td>B01HJHTC6O</td>\n",
       "      <td>ADNZ2NWXVKB1L</td>\n",
       "      <td>5.0</td>\n",
       "      <td>1438560000</td>\n",
       "    </tr>\n",
       "  </tbody>\n",
       "</table>\n",
       "</div>"
      ],
      "text/plain": [
       "              userId      productId  Rating   Timestamp\n",
       "21928566  B01HJHTC6O  ADNZ2NWXVKB1L     5.0  1438560000"
      ]
     },
     "execution_count": 7,
     "metadata": {},
     "output_type": "execute_result"
    }
   ],
   "source": [
    "data.tail(1)"
   ]
  },
  {
   "cell_type": "code",
   "execution_count": 8,
   "id": "bd7d05cb-72fe-45ea-898f-8de9d594b98c",
   "metadata": {},
   "outputs": [
    {
     "name": "stdout",
     "output_type": "stream",
     "text": [
      "<class 'pandas.core.frame.DataFrame'>\n",
      "RangeIndex: 21928567 entries, 0 to 21928566\n",
      "Data columns (total 4 columns):\n",
      " #   Column     Dtype  \n",
      "---  ------     -----  \n",
      " 0   userId     object \n",
      " 1   productId  object \n",
      " 2   Rating     float64\n",
      " 3   Timestamp  int64  \n",
      "dtypes: float64(1), int64(1), object(2)\n",
      "memory usage: 669.2+ MB\n"
     ]
    }
   ],
   "source": [
    "data.info()"
   ]
  },
  {
   "cell_type": "code",
   "execution_count": 9,
   "id": "7f950fdd-94dc-47fc-9b01-97e18797d915",
   "metadata": {},
   "outputs": [
    {
     "data": {
      "text/html": [
       "<div>\n",
       "<style scoped>\n",
       "    .dataframe tbody tr th:only-of-type {\n",
       "        vertical-align: middle;\n",
       "    }\n",
       "\n",
       "    .dataframe tbody tr th {\n",
       "        vertical-align: top;\n",
       "    }\n",
       "\n",
       "    .dataframe thead th {\n",
       "        text-align: right;\n",
       "    }\n",
       "</style>\n",
       "<table border=\"1\" class=\"dataframe\">\n",
       "  <thead>\n",
       "    <tr style=\"text-align: right;\">\n",
       "      <th></th>\n",
       "      <th>Rating</th>\n",
       "      <th>Timestamp</th>\n",
       "    </tr>\n",
       "  </thead>\n",
       "  <tbody>\n",
       "    <tr>\n",
       "      <th>count</th>\n",
       "      <td>2.192857e+07</td>\n",
       "      <td>2.192857e+07</td>\n",
       "    </tr>\n",
       "    <tr>\n",
       "      <th>mean</th>\n",
       "      <td>4.194894e+00</td>\n",
       "      <td>1.449456e+09</td>\n",
       "    </tr>\n",
       "    <tr>\n",
       "      <th>std</th>\n",
       "      <td>1.306882e+00</td>\n",
       "      <td>6.177466e+07</td>\n",
       "    </tr>\n",
       "    <tr>\n",
       "      <th>min</th>\n",
       "      <td>1.000000e+00</td>\n",
       "      <td>9.431424e+08</td>\n",
       "    </tr>\n",
       "    <tr>\n",
       "      <th>25%</th>\n",
       "      <td>4.000000e+00</td>\n",
       "      <td>1.420416e+09</td>\n",
       "    </tr>\n",
       "    <tr>\n",
       "      <th>50%</th>\n",
       "      <td>5.000000e+00</td>\n",
       "      <td>1.460678e+09</td>\n",
       "    </tr>\n",
       "    <tr>\n",
       "      <th>75%</th>\n",
       "      <td>5.000000e+00</td>\n",
       "      <td>1.491696e+09</td>\n",
       "    </tr>\n",
       "    <tr>\n",
       "      <th>max</th>\n",
       "      <td>5.000000e+00</td>\n",
       "      <td>1.538698e+09</td>\n",
       "    </tr>\n",
       "  </tbody>\n",
       "</table>\n",
       "</div>"
      ],
      "text/plain": [
       "             Rating     Timestamp\n",
       "count  2.192857e+07  2.192857e+07\n",
       "mean   4.194894e+00  1.449456e+09\n",
       "std    1.306882e+00  6.177466e+07\n",
       "min    1.000000e+00  9.431424e+08\n",
       "25%    4.000000e+00  1.420416e+09\n",
       "50%    5.000000e+00  1.460678e+09\n",
       "75%    5.000000e+00  1.491696e+09\n",
       "max    5.000000e+00  1.538698e+09"
      ]
     },
     "execution_count": 9,
     "metadata": {},
     "output_type": "execute_result"
    }
   ],
   "source": [
    "data.describe()"
   ]
  },
  {
   "cell_type": "code",
   "execution_count": 10,
   "id": "5e005e18-0a18-4aac-999a-89f15b8141f3",
   "metadata": {},
   "outputs": [],
   "source": [
    "data = data.drop_duplicates()\n",
    "data = data.drop_duplicates(subset=['userId', 'productId'])"
   ]
  },
  {
   "cell_type": "code",
   "execution_count": 11,
   "id": "33cda646-5964-4ffb-8ba4-42884d6fb748",
   "metadata": {},
   "outputs": [
    {
     "data": {
      "text/html": [
       "<div>\n",
       "<style scoped>\n",
       "    .dataframe tbody tr th:only-of-type {\n",
       "        vertical-align: middle;\n",
       "    }\n",
       "\n",
       "    .dataframe tbody tr th {\n",
       "        vertical-align: top;\n",
       "    }\n",
       "\n",
       "    .dataframe thead th {\n",
       "        text-align: right;\n",
       "    }\n",
       "</style>\n",
       "<table border=\"1\" class=\"dataframe\">\n",
       "  <thead>\n",
       "    <tr style=\"text-align: right;\">\n",
       "      <th></th>\n",
       "      <th>userId</th>\n",
       "      <th>productId</th>\n",
       "      <th>Rating</th>\n",
       "      <th>Timestamp</th>\n",
       "    </tr>\n",
       "  </thead>\n",
       "  <tbody>\n",
       "    <tr>\n",
       "      <th>21928566</th>\n",
       "      <td>B01HJHTC6O</td>\n",
       "      <td>ADNZ2NWXVKB1L</td>\n",
       "      <td>5.0</td>\n",
       "      <td>1438560000</td>\n",
       "    </tr>\n",
       "  </tbody>\n",
       "</table>\n",
       "</div>"
      ],
      "text/plain": [
       "              userId      productId  Rating   Timestamp\n",
       "21928566  B01HJHTC6O  ADNZ2NWXVKB1L     5.0  1438560000"
      ]
     },
     "execution_count": 11,
     "metadata": {},
     "output_type": "execute_result"
    }
   ],
   "source": [
    "data.tail(1)"
   ]
  },
  {
   "cell_type": "code",
   "execution_count": 12,
   "id": "c9959000-392e-4ce8-9555-cec8ec700b8f",
   "metadata": {},
   "outputs": [
    {
     "data": {
      "text/html": [
       "<div>\n",
       "<style scoped>\n",
       "    .dataframe tbody tr th:only-of-type {\n",
       "        vertical-align: middle;\n",
       "    }\n",
       "\n",
       "    .dataframe tbody tr th {\n",
       "        vertical-align: top;\n",
       "    }\n",
       "\n",
       "    .dataframe thead th {\n",
       "        text-align: right;\n",
       "    }\n",
       "</style>\n",
       "<table border=\"1\" class=\"dataframe\">\n",
       "  <thead>\n",
       "    <tr style=\"text-align: right;\">\n",
       "      <th></th>\n",
       "      <th>userId</th>\n",
       "      <th>productId</th>\n",
       "      <th>Rating</th>\n",
       "      <th>Timestamp</th>\n",
       "    </tr>\n",
       "  </thead>\n",
       "  <tbody>\n",
       "    <tr>\n",
       "      <th>0</th>\n",
       "      <td>0006564224</td>\n",
       "      <td>A2AMX0AJ2BUDNV</td>\n",
       "      <td>5.0</td>\n",
       "      <td>2010-04-02</td>\n",
       "    </tr>\n",
       "    <tr>\n",
       "      <th>1</th>\n",
       "      <td>0560467893</td>\n",
       "      <td>A8LUWTIPU9CZB</td>\n",
       "      <td>5.0</td>\n",
       "      <td>2015-11-05</td>\n",
       "    </tr>\n",
       "    <tr>\n",
       "      <th>2</th>\n",
       "      <td>0560467893</td>\n",
       "      <td>AABKIIHAL0L66</td>\n",
       "      <td>4.0</td>\n",
       "      <td>2015-10-29</td>\n",
       "    </tr>\n",
       "    <tr>\n",
       "      <th>3</th>\n",
       "      <td>0560467893</td>\n",
       "      <td>A3DA0KIQ5OBK5C</td>\n",
       "      <td>3.0</td>\n",
       "      <td>2015-09-09</td>\n",
       "    </tr>\n",
       "    <tr>\n",
       "      <th>4</th>\n",
       "      <td>0560467893</td>\n",
       "      <td>A32IGEYSCMEMOD</td>\n",
       "      <td>1.0</td>\n",
       "      <td>2015-08-23</td>\n",
       "    </tr>\n",
       "  </tbody>\n",
       "</table>\n",
       "</div>"
      ],
      "text/plain": [
       "       userId       productId  Rating  Timestamp\n",
       "0  0006564224  A2AMX0AJ2BUDNV     5.0 2010-04-02\n",
       "1  0560467893   A8LUWTIPU9CZB     5.0 2015-11-05\n",
       "2  0560467893   AABKIIHAL0L66     4.0 2015-10-29\n",
       "3  0560467893  A3DA0KIQ5OBK5C     3.0 2015-09-09\n",
       "4  0560467893  A32IGEYSCMEMOD     1.0 2015-08-23"
      ]
     },
     "execution_count": 12,
     "metadata": {},
     "output_type": "execute_result"
    }
   ],
   "source": [
    "data['Readable Timestamp'] = pd.to_datetime(data['Timestamp'], unit='s')\n",
    "data['Timestamp'] = pd.to_datetime(data['Timestamp'], unit='s')\n",
    "data = data.drop(columns=['Readable Timestamp'])\n",
    "data.head()"
   ]
  },
  {
   "cell_type": "code",
   "execution_count": 13,
   "id": "a4f55c17-d15b-4551-8350-9d109f7728f1",
   "metadata": {},
   "outputs": [
    {
     "name": "stdout",
     "output_type": "stream",
     "text": [
      "Number of unique users: 1286050\n",
      "Number of unique products: 9767605\n"
     ]
    }
   ],
   "source": [
    "num_users = data['userId'].nunique()\n",
    "num_items = data['productId'].nunique()\n",
    "print(f'Number of unique users: {num_users}')\n",
    "print(f'Number of unique products: {num_items}')"
   ]
  },
  {
   "cell_type": "code",
   "execution_count": 14,
   "id": "18b93675-91ed-43e0-9587-f36c866d9827",
   "metadata": {},
   "outputs": [
    {
     "name": "stdout",
     "output_type": "stream",
     "text": [
      "Maximum Rating: 5.0\n",
      "Minimum Rating: 1.0\n"
     ]
    }
   ],
   "source": [
    "max_rating = data['Rating'].max()\n",
    "min_rating = data['Rating'].min()\n",
    "\n",
    "print(f\"Maximum Rating: {max_rating}\")\n",
    "print(f\"Minimum Rating: {min_rating}\")"
   ]
  },
  {
   "cell_type": "code",
   "execution_count": 15,
   "id": "5cebd986-8ad8-41a5-b389-56dc379bb622",
   "metadata": {},
   "outputs": [
    {
     "data": {
      "text/plain": [
       "Rating\n",
       "5.0    13795155\n",
       "4.0     2958452\n",
       "1.0     1958238\n",
       "3.0     1579968\n",
       "2.0     1094508\n",
       "Name: count, dtype: int64"
      ]
     },
     "execution_count": 15,
     "metadata": {},
     "output_type": "execute_result"
    }
   ],
   "source": [
    "rating_counts = data['Rating'].value_counts()\n",
    "rating_counts"
   ]
  },
  {
   "cell_type": "code",
   "execution_count": 16,
   "id": "5d4ad866-bc39-4b8f-9c50-a68fe94c4b6a",
   "metadata": {},
   "outputs": [
    {
     "data": {
      "image/png": "[encoded data removed]",
      "text/plain": [
       "<Figure size 1000x600 with 1 Axes>"
      ]
     },
     "metadata": {},
     "output_type": "display_data"
    }
   ],
   "source": [
    "plt.figure(figsize=(10, 6))  \n",
    "colors = ['#000000', '#404040', '#808080', '#BFBFBF', '#BFBFBF']  \n",
    "rating_counts.sort_index().plot(kind='barh', color=colors)  \n",
    "plt.title('Count of Observations for Each Rating')\n",
    "plt.ylabel('Ratings')\n",
    "plt.xlabel('Count of Observations')\n",
    "plt.show()"
   ]
  },
  {
   "cell_type": "code",
   "execution_count": 17,
   "id": "c8243506-544e-4ea4-8a73-6faf6682243b",
   "metadata": {},
   "outputs": [],
   "source": [
    "# 1. Count the number of ratings for each product\n",
    "ratings_countofu = data.groupby('userId').size()\n",
    "ratings_count = data.groupby('productId').size()\n",
    "\n",
    "# 2. Filter out products with less than 70 ratings\n",
    "popular_productsofu = ratings_countofu[ratings_countofu >= 70].index\n",
    "popular_products = ratings_count[ratings_count >= 65].index\n",
    "\n",
    "# 3. Filter the original dataset to keep only rows with these popular products\n",
    "filtered_data = data[data['productId'].isin(popular_products)]\n",
    "filtered_data = filtered_data[filtered_data['userId'].isin(popular_productsofu)]"
   ]
  },
  {
   "cell_type": "code",
   "execution_count": 18,
   "id": "77b22d04-ef2e-4423-b007-cfe08b772a10",
   "metadata": {},
   "outputs": [
    {
     "name": "stdout",
     "output_type": "stream",
     "text": [
      "Number of unique users: 31274\n",
      "Number of unique products: 2030\n"
     ]
    }
   ],
   "source": [
    "number_users = filtered_data['userId'].nunique()\n",
    "number_items = filtered_data['productId'].nunique()\n",
    "print(f'Number of unique users: {number_users}')\n",
    "print(f'Number of unique products: {number_items}')"
   ]
  },
  {
   "cell_type": "code",
   "execution_count": 19,
   "id": "d6c072f1-0b5b-40e8-8e86-fe76b9bbfde3",
   "metadata": {},
   "outputs": [
    {
     "data": {
      "text/html": [
       "<div>\n",
       "<style scoped>\n",
       "    .dataframe tbody tr th:only-of-type {\n",
       "        vertical-align: middle;\n",
       "    }\n",
       "\n",
       "    .dataframe tbody tr th {\n",
       "        vertical-align: top;\n",
       "    }\n",
       "\n",
       "    .dataframe thead th {\n",
       "        text-align: right;\n",
       "    }\n",
       "</style>\n",
       "<table border=\"1\" class=\"dataframe\">\n",
       "  <thead>\n",
       "    <tr style=\"text-align: right;\">\n",
       "      <th></th>\n",
       "      <th>userId</th>\n",
       "      <th>productId</th>\n",
       "      <th>Rating</th>\n",
       "      <th>Timestamp</th>\n",
       "    </tr>\n",
       "  </thead>\n",
       "  <tbody>\n",
       "    <tr>\n",
       "      <th>1168</th>\n",
       "      <td>1935305441</td>\n",
       "      <td>A3ENX1Y48DJQVK</td>\n",
       "      <td>4.0</td>\n",
       "      <td>2012-09-27</td>\n",
       "    </tr>\n",
       "    <tr>\n",
       "      <th>1171</th>\n",
       "      <td>1935305441</td>\n",
       "      <td>A2DPYMNI2HCIOI</td>\n",
       "      <td>3.0</td>\n",
       "      <td>2012-07-17</td>\n",
       "    </tr>\n",
       "    <tr>\n",
       "      <th>1717</th>\n",
       "      <td>5509356839</td>\n",
       "      <td>A2C27IQUH9N1Z</td>\n",
       "      <td>5.0</td>\n",
       "      <td>2003-10-30</td>\n",
       "    </tr>\n",
       "    <tr>\n",
       "      <th>1889</th>\n",
       "      <td>5509356839</td>\n",
       "      <td>A23GFTVIETX7DS</td>\n",
       "      <td>5.0</td>\n",
       "      <td>2002-10-18</td>\n",
       "    </tr>\n",
       "    <tr>\n",
       "      <th>2532</th>\n",
       "      <td>710105482X</td>\n",
       "      <td>A1CSFIQ41U5FWY</td>\n",
       "      <td>3.0</td>\n",
       "      <td>2016-05-02</td>\n",
       "    </tr>\n",
       "  </tbody>\n",
       "</table>\n",
       "</div>"
      ],
      "text/plain": [
       "          userId       productId  Rating  Timestamp\n",
       "1168  1935305441  A3ENX1Y48DJQVK     4.0 2012-09-27\n",
       "1171  1935305441  A2DPYMNI2HCIOI     3.0 2012-07-17\n",
       "1717  5509356839   A2C27IQUH9N1Z     5.0 2003-10-30\n",
       "1889  5509356839  A23GFTVIETX7DS     5.0 2002-10-18\n",
       "2532  710105482X  A1CSFIQ41U5FWY     3.0 2016-05-02"
      ]
     },
     "execution_count": 19,
     "metadata": {},
     "output_type": "execute_result"
    }
   ],
   "source": [
    "filtered_data.head(5)"
   ]
  },
  {
   "cell_type": "code",
   "execution_count": 20,
   "id": "0c2484a9-e16e-49eb-8115-e701be461125",
   "metadata": {},
   "outputs": [],
   "source": [
    "train_data, test_data = train_test_split(filtered_data, test_size=0.4, random_state=42)"
   ]
  },
  {
   "cell_type": "code",
   "execution_count": 21,
   "id": "34dc52c0-1abc-4ace-a567-814f3e6a7e40",
   "metadata": {},
   "outputs": [
    {
     "name": "stdout",
     "output_type": "stream",
     "text": [
      "Training data size: (69535, 4)\n",
      "Test data size: (46357, 4)\n"
     ]
    }
   ],
   "source": [
    "print(f\"Training data size: {train_data.shape}\")\n",
    "print(f\"Test data size: {test_data.shape}\")"
   ]
  },
  {
   "cell_type": "code",
   "execution_count": 22,
   "id": "9dd98b54-bdc6-43ca-b2d5-39e44cdb2f5b",
   "metadata": {},
   "outputs": [
    {
     "data": {
      "image/png": "[encoded data removed]",
      "text/plain": [
       "<Figure size 1500x500 with 2 Axes>"
      ]
     },
     "metadata": {},
     "output_type": "display_data"
    }
   ],
   "source": [
    "fig, axes = plt.subplots(1, 2, figsize=(15, 5))\n",
    "\n",
    "# Training Set Plot\n",
    "sns.countplot(x='Rating', data=train_data, hue='Rating', palette='deep', ax=axes[0], dodge=False)\n",
    "axes[0].set_title('Training Set')\n",
    "axes[0].get_legend().remove()  \n",
    "\n",
    "# Testing Set Plot\n",
    "sns.countplot(x='Rating', data=test_data, hue='Rating', palette='deep', ax=axes[1], order=test_data['Rating'].value_counts().index, dodge=False)\n",
    "axes[1].set_title('Testing Set')\n",
    "axes[1].get_legend().remove()  \n",
    "\n",
    "plt.show()"
   ]
  },
  {
   "cell_type": "code",
   "execution_count": 23,
   "id": "79e99350-6559-4a49-8737-714003ed4167",
   "metadata": {},
   "outputs": [],
   "source": [
    "product_rating_count = filtered_data.groupby('productId')['Rating'].count().reset_index()\n",
    "product_rating_count.rename(columns={'Rating': 'TotalRatings'}, inplace=True)\n",
    "product_rating_count = product_rating_count.sort_values('TotalRatings', ascending=False)"
   ]
  },
  {
   "cell_type": "code",
   "execution_count": 24,
   "id": "18813bb7-fef2-4e38-bde4-ee3205af1ff8",
   "metadata": {},
   "outputs": [],
   "source": [
    "product_avg_rating = filtered_data.groupby('productId')['Rating'].mean().reset_index()\n",
    "product_avg_rating.rename(columns={'Rating': 'AverageRating'}, inplace=True)\n",
    "product_avg_rating = product_avg_rating.sort_values('AverageRating', ascending=False)"
   ]
  },
  {
   "cell_type": "code",
   "execution_count": 25,
   "id": "b80737a4-e273-449d-852f-e9d537ac3692",
   "metadata": {},
   "outputs": [
    {
     "name": "stdout",
     "output_type": "stream",
     "text": [
      "Top Products by Count of Ratings:\n",
      "           productId  TotalRatings\n",
      "788   A2GP4EJIAA2OE0           256\n",
      "407   A1TPW86OHXTXFC           252\n",
      "1264  A3AZI828WJN1CD           239\n",
      "557   A23GFTVIETX7DS           232\n",
      "1094  A2ZY49IDE6TY5I           227\n"
     ]
    }
   ],
   "source": [
    "print(\"Top Products by Count of Ratings:\")\n",
    "print(product_rating_count.head())"
   ]
  },
  {
   "cell_type": "code",
   "execution_count": 26,
   "id": "fb3c11b6-4370-4ed4-9337-6a81af3a0552",
   "metadata": {},
   "outputs": [],
   "source": [
    "product_popularity = pd.merge(product_avg_rating, product_rating_count, on='productId')\n",
    "\n",
    "min_ratings_threshold = 50  \n",
    "filtered_products = product_popularity[product_popularity['TotalRatings'] > min_ratings_threshold]\n",
    "highest_avg_rating_product = filtered_products.sort_values('AverageRating', ascending=False).head(1)\n",
    "\n",
    "highest_total_rating_product = product_popularity.sort_values('TotalRatings', ascending=False).head(1)\n"
   ]
  },
  {
   "cell_type": "code",
   "execution_count": 27,
   "id": "48d6cdd1-758b-45bd-a978-60bd60bc6a53",
   "metadata": {},
   "outputs": [
    {
     "name": "stdout",
     "output_type": "stream",
     "text": [
      "Product with Highest Average Rating (with substantial number of ratings):\n",
      "       productId  AverageRating  TotalRatings\n",
      "0  AFXCKN04TF5E6            5.0            55\n",
      "\n",
      "Product with Highest Total Rating Count:\n",
      "           productId  AverageRating  TotalRatings\n",
      "1264  A2GP4EJIAA2OE0       4.386719           256\n"
     ]
    }
   ],
   "source": [
    "print(\"Product with Highest Average Rating (with substantial number of ratings):\")\n",
    "print(highest_avg_rating_product)\n",
    "\n",
    "print(\"\\nProduct with Highest Total Rating Count:\")\n",
    "print(highest_total_rating_product)"
   ]
  },
  {
   "cell_type": "code",
   "execution_count": 28,
   "id": "1d07adc9-93bc-4d65-ad9f-ba78142bf477",
   "metadata": {},
   "outputs": [
    {
     "name": "stdout",
     "output_type": "stream",
     "text": [
      "        productId  Rating\n",
      "0  A2GP4EJIAA2OE0  1123.0\n",
      "1  A3AZI828WJN1CD  1091.0\n",
      "2  A1TPW86OHXTXFC  1083.0\n",
      "3  A1G3ZHC1SU2U82  1035.0\n",
      "4  A23GFTVIETX7DS  1022.0\n",
      "5  A25C2M3QF9G7OQ  1020.0\n",
      "6  A1IU7S4HCK1XK0   992.0\n",
      "7  A2ZY49IDE6TY5I   973.0\n",
      "8  A14B4MJ7KZE63B   972.0\n",
      "9   A4BDCSB1GRKO3   893.0\n"
     ]
    }
   ],
   "source": [
    "# 1. Group by productId and sum the ratings\n",
    "product_popularity_score = filtered_data.groupby('productId')['Rating'].sum().sort_values(ascending=False)\n",
    "product_popularity_score = product_popularity_score.reset_index()\n",
    "\n",
    "# 3. Recommend top N products\n",
    "N = 10  # Number of top products to recommend\n",
    "top_products = product_popularity_score.head(N)\n",
    "\n",
    "# Print the top products\n",
    "print(top_products)"
   ]
  },
  {
   "cell_type": "code",
   "execution_count": 29,
   "id": "1bf4f403-5a00-43a8-9f70-e14f673bc8e8",
   "metadata": {},
   "outputs": [
    {
     "name": "stdout",
     "output_type": "stream",
     "text": [
      "Recommendations for 1935305441:\n",
      "        productId  Rating\n",
      "0  A2GP4EJIAA2OE0  1123.0\n",
      "1  A3AZI828WJN1CD  1091.0\n",
      "2  A1TPW86OHXTXFC  1083.0\n",
      "3  A1G3ZHC1SU2U82  1035.0\n",
      "4  A23GFTVIETX7DS  1022.0\n",
      "5  A25C2M3QF9G7OQ  1020.0\n",
      "6  A1IU7S4HCK1XK0   992.0\n",
      "7  A2ZY49IDE6TY5I   973.0\n",
      "8  A14B4MJ7KZE63B   972.0\n",
      "9   A4BDCSB1GRKO3   893.0\n",
      "\n",
      "Recommendations for 5509356839:\n",
      "        productId  Rating\n",
      "0  A2GP4EJIAA2OE0  1123.0\n",
      "1  A3AZI828WJN1CD  1091.0\n",
      "2  A1TPW86OHXTXFC  1083.0\n",
      "3  A1G3ZHC1SU2U82  1035.0\n",
      "4  A23GFTVIETX7DS  1022.0\n",
      "5  A25C2M3QF9G7OQ  1020.0\n",
      "6  A1IU7S4HCK1XK0   992.0\n",
      "7  A2ZY49IDE6TY5I   973.0\n",
      "8  A14B4MJ7KZE63B   972.0\n",
      "9   A4BDCSB1GRKO3   893.0\n",
      "\n"
     ]
    }
   ],
   "source": [
    "# User IDs for whom you want to make recommendations\n",
    "user_ids = ['1935305441', '5509356839']\n",
    "\n",
    "# Making recommendations for each user\n",
    "for user_id in user_ids:\n",
    "    print(f\"Recommendations for {user_id}:\")\n",
    "    print(top_products)\n",
    "    print()  # Just for a newline for better readability"
   ]
  },
  {
   "cell_type": "code",
   "execution_count": 30,
   "id": "c73e0c9f-1d94-45e3-a69b-161f049fdaa1",
   "metadata": {},
   "outputs": [
    {
     "name": "stdout",
     "output_type": "stream",
     "text": [
      "Shape of User-Item sparse matrix: (31274, 2030)\n"
     ]
    },
    {
     "data": {
      "text/html": [
       "<div>\n",
       "<style scoped>\n",
       "    .dataframe tbody tr th:only-of-type {\n",
       "        vertical-align: middle;\n",
       "    }\n",
       "\n",
       "    .dataframe tbody tr th {\n",
       "        vertical-align: top;\n",
       "    }\n",
       "\n",
       "    .dataframe thead th {\n",
       "        text-align: right;\n",
       "    }\n",
       "</style>\n",
       "<table border=\"1\" class=\"dataframe\">\n",
       "  <thead>\n",
       "    <tr style=\"text-align: right;\">\n",
       "      <th>productId</th>\n",
       "      <th>A100UD67AHFODS</th>\n",
       "      <th>A100WO06OQR8BQ</th>\n",
       "      <th>A1047P9FLHTDZJ</th>\n",
       "      <th>A10AFVU66A79Y1</th>\n",
       "      <th>A10GM1XCW5REA4</th>\n",
       "      <th>A10HR0ECYKDNTN</th>\n",
       "      <th>A10J4WFUBV2LT0</th>\n",
       "      <th>A10LWFKVC21F82</th>\n",
       "      <th>A10M2MLE2R0L6K</th>\n",
       "      <th>A10TBVTZXWYBTU</th>\n",
       "      <th>...</th>\n",
       "      <th>AZK1JU1ODC418</th>\n",
       "      <th>AZKRFNQ8EFO4T</th>\n",
       "      <th>AZMY6E8B52L2T</th>\n",
       "      <th>AZOG2V39N2VIW</th>\n",
       "      <th>AZPI1JA9XKV8P</th>\n",
       "      <th>AZS23E3IKSF9D</th>\n",
       "      <th>AZV26LP92E6WU</th>\n",
       "      <th>AZV2U6GU5QA6C</th>\n",
       "      <th>AZVI6UY9N33Q2</th>\n",
       "      <th>AZZT1ERHBSNQ8</th>\n",
       "    </tr>\n",
       "    <tr>\n",
       "      <th>userId</th>\n",
       "      <th></th>\n",
       "      <th></th>\n",
       "      <th></th>\n",
       "      <th></th>\n",
       "      <th></th>\n",
       "      <th></th>\n",
       "      <th></th>\n",
       "      <th></th>\n",
       "      <th></th>\n",
       "      <th></th>\n",
       "      <th></th>\n",
       "      <th></th>\n",
       "      <th></th>\n",
       "      <th></th>\n",
       "      <th></th>\n",
       "      <th></th>\n",
       "      <th></th>\n",
       "      <th></th>\n",
       "      <th></th>\n",
       "      <th></th>\n",
       "      <th></th>\n",
       "    </tr>\n",
       "  </thead>\n",
       "  <tbody>\n",
       "    <tr>\n",
       "      <th>1935305441</th>\n",
       "      <td>0.0</td>\n",
       "      <td>0.0</td>\n",
       "      <td>0.0</td>\n",
       "      <td>0.0</td>\n",
       "      <td>0.0</td>\n",
       "      <td>0.0</td>\n",
       "      <td>0.0</td>\n",
       "      <td>0.0</td>\n",
       "      <td>0.0</td>\n",
       "      <td>0.0</td>\n",
       "      <td>...</td>\n",
       "      <td>0.0</td>\n",
       "      <td>0.0</td>\n",
       "      <td>0.0</td>\n",
       "      <td>0.0</td>\n",
       "      <td>0.0</td>\n",
       "      <td>0.0</td>\n",
       "      <td>0.0</td>\n",
       "      <td>0.0</td>\n",
       "      <td>0.0</td>\n",
       "      <td>0.0</td>\n",
       "    </tr>\n",
       "    <tr>\n",
       "      <th>5509356839</th>\n",
       "      <td>0.0</td>\n",
       "      <td>0.0</td>\n",
       "      <td>0.0</td>\n",
       "      <td>0.0</td>\n",
       "      <td>0.0</td>\n",
       "      <td>0.0</td>\n",
       "      <td>0.0</td>\n",
       "      <td>0.0</td>\n",
       "      <td>0.0</td>\n",
       "      <td>0.0</td>\n",
       "      <td>...</td>\n",
       "      <td>0.0</td>\n",
       "      <td>0.0</td>\n",
       "      <td>0.0</td>\n",
       "      <td>0.0</td>\n",
       "      <td>0.0</td>\n",
       "      <td>0.0</td>\n",
       "      <td>0.0</td>\n",
       "      <td>0.0</td>\n",
       "      <td>0.0</td>\n",
       "      <td>0.0</td>\n",
       "    </tr>\n",
       "    <tr>\n",
       "      <th>710105482X</th>\n",
       "      <td>0.0</td>\n",
       "      <td>0.0</td>\n",
       "      <td>0.0</td>\n",
       "      <td>0.0</td>\n",
       "      <td>0.0</td>\n",
       "      <td>0.0</td>\n",
       "      <td>0.0</td>\n",
       "      <td>0.0</td>\n",
       "      <td>0.0</td>\n",
       "      <td>0.0</td>\n",
       "      <td>...</td>\n",
       "      <td>0.0</td>\n",
       "      <td>0.0</td>\n",
       "      <td>0.0</td>\n",
       "      <td>0.0</td>\n",
       "      <td>0.0</td>\n",
       "      <td>0.0</td>\n",
       "      <td>0.0</td>\n",
       "      <td>0.0</td>\n",
       "      <td>0.0</td>\n",
       "      <td>0.0</td>\n",
       "    </tr>\n",
       "    <tr>\n",
       "      <th>7502151168</th>\n",
       "      <td>0.0</td>\n",
       "      <td>0.0</td>\n",
       "      <td>0.0</td>\n",
       "      <td>0.0</td>\n",
       "      <td>0.0</td>\n",
       "      <td>0.0</td>\n",
       "      <td>0.0</td>\n",
       "      <td>0.0</td>\n",
       "      <td>0.0</td>\n",
       "      <td>0.0</td>\n",
       "      <td>...</td>\n",
       "      <td>0.0</td>\n",
       "      <td>0.0</td>\n",
       "      <td>0.0</td>\n",
       "      <td>0.0</td>\n",
       "      <td>0.0</td>\n",
       "      <td>0.0</td>\n",
       "      <td>0.0</td>\n",
       "      <td>0.0</td>\n",
       "      <td>0.0</td>\n",
       "      <td>0.0</td>\n",
       "    </tr>\n",
       "    <tr>\n",
       "      <th>7536693001</th>\n",
       "      <td>0.0</td>\n",
       "      <td>0.0</td>\n",
       "      <td>0.0</td>\n",
       "      <td>0.0</td>\n",
       "      <td>0.0</td>\n",
       "      <td>0.0</td>\n",
       "      <td>0.0</td>\n",
       "      <td>0.0</td>\n",
       "      <td>0.0</td>\n",
       "      <td>0.0</td>\n",
       "      <td>...</td>\n",
       "      <td>0.0</td>\n",
       "      <td>0.0</td>\n",
       "      <td>0.0</td>\n",
       "      <td>0.0</td>\n",
       "      <td>0.0</td>\n",
       "      <td>0.0</td>\n",
       "      <td>0.0</td>\n",
       "      <td>0.0</td>\n",
       "      <td>0.0</td>\n",
       "      <td>0.0</td>\n",
       "    </tr>\n",
       "  </tbody>\n",
       "</table>\n",
       "<p>5 rows × 2030 columns</p>\n",
       "</div>"
      ],
      "text/plain": [
       "productId   A100UD67AHFODS  A100WO06OQR8BQ  A1047P9FLHTDZJ  A10AFVU66A79Y1  \\\n",
       "userId                                                                       \n",
       "1935305441             0.0             0.0             0.0             0.0   \n",
       "5509356839             0.0             0.0             0.0             0.0   \n",
       "710105482X             0.0             0.0             0.0             0.0   \n",
       "7502151168             0.0             0.0             0.0             0.0   \n",
       "7536693001             0.0             0.0             0.0             0.0   \n",
       "\n",
       "productId   A10GM1XCW5REA4  A10HR0ECYKDNTN  A10J4WFUBV2LT0  A10LWFKVC21F82  \\\n",
       "userId                                                                       \n",
       "1935305441             0.0             0.0             0.0             0.0   \n",
       "5509356839             0.0             0.0             0.0             0.0   \n",
       "710105482X             0.0             0.0             0.0             0.0   \n",
       "7502151168             0.0             0.0             0.0             0.0   \n",
       "7536693001             0.0             0.0             0.0             0.0   \n",
       "\n",
       "productId   A10M2MLE2R0L6K  A10TBVTZXWYBTU  ...  AZK1JU1ODC418  AZKRFNQ8EFO4T  \\\n",
       "userId                                      ...                                 \n",
       "1935305441             0.0             0.0  ...            0.0            0.0   \n",
       "5509356839             0.0             0.0  ...            0.0            0.0   \n",
       "710105482X             0.0             0.0  ...            0.0            0.0   \n",
       "7502151168             0.0             0.0  ...            0.0            0.0   \n",
       "7536693001             0.0             0.0  ...            0.0            0.0   \n",
       "\n",
       "productId   AZMY6E8B52L2T  AZOG2V39N2VIW  AZPI1JA9XKV8P  AZS23E3IKSF9D  \\\n",
       "userId                                                                   \n",
       "1935305441            0.0            0.0            0.0            0.0   \n",
       "5509356839            0.0            0.0            0.0            0.0   \n",
       "710105482X            0.0            0.0            0.0            0.0   \n",
       "7502151168            0.0            0.0            0.0            0.0   \n",
       "7536693001            0.0            0.0            0.0            0.0   \n",
       "\n",
       "productId   AZV26LP92E6WU  AZV2U6GU5QA6C  AZVI6UY9N33Q2  AZZT1ERHBSNQ8  \n",
       "userId                                                                  \n",
       "1935305441            0.0            0.0            0.0            0.0  \n",
       "5509356839            0.0            0.0            0.0            0.0  \n",
       "710105482X            0.0            0.0            0.0            0.0  \n",
       "7502151168            0.0            0.0            0.0            0.0  \n",
       "7536693001            0.0            0.0            0.0            0.0  \n",
       "\n",
       "[5 rows x 2030 columns]"
      ]
     },
     "execution_count": 30,
     "metadata": {},
     "output_type": "execute_result"
    }
   ],
   "source": [
    "# Create the User-Item sparse matrix\n",
    "user_item_matrix = filtered_data.pivot(index='userId', columns='productId', values='Rating').fillna(0)\n",
    "print('Shape of User-Item sparse matrix:', user_item_matrix.shape)\n",
    "user_item_matrix.head()"
   ]
  },
  {
   "cell_type": "code",
   "execution_count": 31,
   "id": "ecf9b9c9-5717-45ee-b695-f922f7eebb40",
   "metadata": {},
   "outputs": [
    {
     "name": "stdout",
     "output_type": "stream",
     "text": [
      "userId      1935305441  5509356839  710105482X  7502151168  7536693001  \\\n",
      "userId                                                                   \n",
      "1935305441         1.0         0.0         0.0         0.0         0.0   \n",
      "5509356839         0.0         1.0         0.0         0.0         0.0   \n",
      "710105482X         0.0         0.0         1.0         0.0         0.0   \n",
      "7502151168         0.0         0.0         0.0         1.0         0.0   \n",
      "7536693001         0.0         0.0         0.0         0.0         1.0   \n",
      "7885124193         0.0         0.0         0.0         0.0         0.0   \n",
      "9170011451         0.0         0.0         0.0         0.0         0.0   \n",
      "917712071X         0.0         0.0         0.0         0.0         0.0   \n",
      "9900493486         0.0         0.0         0.0         0.0         0.0   \n",
      "B00000JGRP         0.0         0.0         0.0         0.0         0.0   \n",
      "\n",
      "userId      7885124193  9170011451  917712071X  9900493486  B00000JGRP  ...  \\\n",
      "userId                                                                  ...   \n",
      "1935305441         0.0         0.0         0.0         0.0         0.0  ...   \n",
      "5509356839         0.0         0.0         0.0         0.0         0.0  ...   \n",
      "710105482X         0.0         0.0         0.0         0.0         0.0  ...   \n",
      "7502151168         0.0         0.0         0.0         0.0         0.0  ...   \n",
      "7536693001         0.0         0.0         0.0         0.0         0.0  ...   \n",
      "7885124193         1.0         0.0         0.0         0.0         0.0  ...   \n",
      "9170011451         0.0         1.0         0.0         0.0         0.0  ...   \n",
      "917712071X         0.0         0.0         1.0         0.0         0.0  ...   \n",
      "9900493486         0.0         0.0         0.0         1.0         0.0  ...   \n",
      "B00000JGRP         0.0         0.0         0.0         0.0         1.0  ...   \n",
      "\n",
      "userId      B01HHA5PUU  B01HHCG110  B01HHF5AF0  B01HHV19UY  B01HI1S5ZA  \\\n",
      "userId                                                                   \n",
      "1935305441         0.0         0.0     0.00000         0.0         0.0   \n",
      "5509356839         0.0         0.0     0.00000         0.0         0.0   \n",
      "710105482X         0.0         0.0     0.29277         0.0         0.0   \n",
      "7502151168         0.0         0.0     0.00000         0.0         0.0   \n",
      "7536693001         0.0         0.0     0.00000         0.0         0.0   \n",
      "7885124193         0.0         0.0     0.00000         0.0         0.0   \n",
      "9170011451         0.0         0.0     0.00000         0.0         0.0   \n",
      "917712071X         0.0         0.0     0.00000         0.0         0.0   \n",
      "9900493486         0.0         0.0     0.00000         0.0         0.0   \n",
      "B00000JGRP         0.0         0.0     0.00000         0.0         0.0   \n",
      "\n",
      "userId      B01HID4YYY  B01HIGRHY0  B01HILAJA4  B01HIQLIQI  B01HIUVWCE  \n",
      "userId                                                                  \n",
      "1935305441         0.0         0.0         0.0         0.0         0.0  \n",
      "5509356839         0.0         0.0         0.0         0.0         0.0  \n",
      "710105482X         0.0         0.0         0.0         0.0         0.0  \n",
      "7502151168         0.0         0.0         0.0         0.0         0.0  \n",
      "7536693001         0.0         0.0         0.0         0.0         0.0  \n",
      "7885124193         0.0         0.0         0.0         0.0         0.0  \n",
      "9170011451         0.0         0.0         0.0         0.0         0.0  \n",
      "917712071X         0.0         0.0         0.0         0.0         0.0  \n",
      "9900493486         0.0         0.0         0.0         0.0         0.0  \n",
      "B00000JGRP         0.0         0.0         0.0         0.0         0.0  \n",
      "\n",
      "[10 rows x 31274 columns]\n",
      "CPU times: user 5min 59s, sys: 8min 17s, total: 14min 17s\n",
      "Wall time: 3min 1s\n"
     ]
    }
   ],
   "source": [
    "%%time\n",
    "total = sum(range(1000000))\n",
    "product = 1\n",
    "for i in range(1, 1000):\n",
    "    product *= i\n",
    "\n",
    "\n",
    "# Calculate the user-user similarity matrix\n",
    "user_similarity = cosine_similarity(user_item_matrix)\n",
    "\n",
    "# Convert to DataFrame for better readability\n",
    "user_similarity_df = pd.DataFrame(user_similarity, index=user_item_matrix.index, columns=user_item_matrix.index)\n",
    "\n",
    "# Display the user similarity DataFrame\n",
    "print(user_similarity_df.head(10))"
   ]
  },
  {
   "cell_type": "code",
   "execution_count": 32,
   "id": "90888dd1-24dd-4463-8553-46bf83b56b1f",
   "metadata": {},
   "outputs": [
    {
     "name": "stdout",
     "output_type": "stream",
     "text": [
      "productId   A100UD67AHFODS  A100WO06OQR8BQ  A1047P9FLHTDZJ  A10AFVU66A79Y1  \\\n",
      "userId                                                                       \n",
      "1935305441       -0.009427        0.001616       -0.009427       -0.009427   \n",
      "5509356839        0.020854        0.011724       -0.014573        0.046613   \n",
      "710105482X        0.023869       -0.001102        0.007095        0.007095   \n",
      "7502151168       -0.008366       -0.008366        0.099522       -0.008366   \n",
      "7536693001       -0.020953       -0.020953       -0.020953       -0.020953   \n",
      "\n",
      "productId   A10GM1XCW5REA4  A10HR0ECYKDNTN  A10J4WFUBV2LT0  A10LWFKVC21F82  \\\n",
      "userId                                                                       \n",
      "1935305441       -0.009427       -0.009427       -0.009427        0.003601   \n",
      "5509356839       -0.014573        0.005687       -0.014573       -0.014573   \n",
      "710105482X       -0.001102        0.007936       -0.001102       -0.001102   \n",
      "7502151168       -0.008366       -0.008366       -0.008366        0.004224   \n",
      "7536693001       -0.020953       -0.020953       -0.020953       -0.020953   \n",
      "\n",
      "productId   A10M2MLE2R0L6K  A10TBVTZXWYBTU  ...  AZK1JU1ODC418  AZKRFNQ8EFO4T  \\\n",
      "userId                                      ...                                 \n",
      "1935305441       -0.009427       -0.009427  ...      -0.009427      -0.009427   \n",
      "5509356839        0.005900       -0.014573  ...      -0.014573       0.005616   \n",
      "710105482X       -0.001102        0.004833  ...      -0.001102      -0.001102   \n",
      "7502151168       -0.008366       -0.008366  ...      -0.008366      -0.008366   \n",
      "7536693001       -0.020953        0.068393  ...      -0.020953      -0.020953   \n",
      "\n",
      "productId   AZMY6E8B52L2T  AZOG2V39N2VIW  AZPI1JA9XKV8P  AZS23E3IKSF9D  \\\n",
      "userId                                                                   \n",
      "1935305441      -0.007815       0.033152      -0.009427      -0.009427   \n",
      "5509356839       0.072152      -0.007887       0.042412       0.020027   \n",
      "710105482X      -0.001102       0.009513       0.022761      -0.001102   \n",
      "7502151168       0.024665      -0.008366      -0.008366      -0.008366   \n",
      "7536693001      -0.020953      -0.020953      -0.020953       0.100366   \n",
      "\n",
      "productId   AZV26LP92E6WU  AZV2U6GU5QA6C  AZVI6UY9N33Q2  AZZT1ERHBSNQ8  \n",
      "userId                                                                  \n",
      "1935305441       0.005973      -0.009427       0.018549      -0.009427  \n",
      "5509356839      -0.005351       0.009716      -0.014573      -0.014573  \n",
      "710105482X      -0.001102      -0.001102       0.009918      -0.001102  \n",
      "7502151168      -0.008366      -0.008366       0.007371      -0.008366  \n",
      "7536693001      -0.020953      -0.020953      -0.020953      -0.020953  \n",
      "\n",
      "[5 rows x 2030 columns]\n",
      "CPU times: user 5min 4s, sys: 14 s, total: 5min 18s\n",
      "Wall time: 1min 10s\n"
     ]
    }
   ],
   "source": [
    "%%time\n",
    "total = sum(range(1000000))\n",
    "product = 1\n",
    "for i in range(1, 1000):\n",
    "    product *= i\n",
    "\n",
    "\n",
    "def predict_ratings(user_similarity, user_item_matrix):\n",
    "    mean_user_rating = user_item_matrix.mean(axis=1).values\n",
    "    ratings_diff = (user_item_matrix - mean_user_rating[:, np.newaxis])\n",
    "    pred = mean_user_rating[:, np.newaxis] + np.dot(user_similarity, ratings_diff) / np.array([np.abs(user_similarity).sum(axis=1)]).T\n",
    "    return pd.DataFrame(pred, columns=user_item_matrix.columns, index=user_item_matrix.index)\n",
    "\n",
    "# Predict ratings\n",
    "predicted_ratings = predict_ratings(user_similarity, user_item_matrix)\n",
    "\n",
    "# Display predicted ratings\n",
    "print(predicted_ratings.head())"
   ]
  },
  {
   "cell_type": "code",
   "execution_count": 33,
   "id": "ffc1379e-fae2-4395-9171-4198cf38b668",
   "metadata": {},
   "outputs": [
    {
     "name": "stdout",
     "output_type": "stream",
     "text": [
      "Recommendations for 1935305441:\n",
      "productId\n",
      "A3ENX1Y48DJQVK    3.318985\n",
      "A2DPYMNI2HCIOI    0.808280\n",
      "A1IVNIH0Z1NWLY    0.099691\n",
      "A3LO1A9N0F0TXE    0.094940\n",
      "A1ZCSSCAGBCD49    0.091970\n",
      "Name: 1935305441, dtype: float64\n",
      "\n",
      "\n",
      "Recommendations for 5509356839:\n",
      "productId\n",
      "A23GFTVIETX7DS    3.501374\n",
      "A2C27IQUH9N1Z     1.193109\n",
      "A3AZI828WJN1CD    0.244414\n",
      "A2R1HUYHXV7H18    0.172559\n",
      "A1TPW86OHXTXFC    0.145171\n",
      "Name: 5509356839, dtype: float64\n",
      "\n",
      "\n",
      "CPU times: user 18.9 ms, sys: 11.5 ms, total: 30.4 ms\n",
      "Wall time: 32.2 ms\n"
     ]
    }
   ],
   "source": [
    "%%time\n",
    "total = sum(range(1000000))\n",
    "product = 1\n",
    "for i in range(1, 1000):\n",
    "    product *= i\n",
    "\n",
    "\n",
    "def recommend_items(user_id, user_item_matrix, predicted_ratings, top_n=5):\n",
    "    # Get and sort the user's predictions\n",
    "    user_predictions = predicted_ratings.loc[user_id].sort_values(ascending=False)\n",
    "    \n",
    "    # Filter out items that the user has already rated\n",
    "    user_data = user_item_matrix.loc[user_id]\n",
    "    user_predictions = user_predictions[~user_data.index.isin(user_data[user_data > 0].index)]\n",
    "\n",
    "    # Return the top N recommendations\n",
    "    return user_predictions.head(top_n)\n",
    "\n",
    "user_ids = ['1935305441', '5509356839']  \n",
    "for user_id in user_ids:\n",
    "    print(f\"Recommendations for {user_id}:\")\n",
    "    print(recommend_items(user_id, user_item_matrix, predicted_ratings))\n",
    "    print(\"\\n\")\n"
   ]
  },
  {
   "cell_type": "code",
   "execution_count": 37,
   "id": "07fa7b68-33d4-4792-94d3-cc4184b66553",
   "metadata": {},
   "outputs": [
    {
     "name": "stdout",
     "output_type": "stream",
     "text": [
      "RMSE for Collaborative-Based Model: 3.495229432962133\n"
     ]
    }
   ],
   "source": [
    "from sklearn.metrics import mean_squared_error\n",
    "from math import sqrt\n",
    "def rmse(prediction, ground_truth):\n",
    "    # Convert prediction and ground_truth to NumPy arrays\n",
    "    prediction_array = prediction.to_numpy().flatten()\n",
    "    ground_truth_array = ground_truth.to_numpy().flatten()\n",
    "\n",
    "    # Identify the indices where the ground truth ratings are non-zero\n",
    "    mask = ground_truth_array.nonzero()\n",
    "\n",
    "    # Use the mask to filter the prediction and ground truth arrays\n",
    "    filtered_prediction = prediction_array[mask]\n",
    "    filtered_ground_truth = ground_truth_array[mask]\n",
    "\n",
    "    return sqrt(mean_squared_error(filtered_prediction, filtered_ground_truth))\n",
    "\n",
    "rmse_value = rmse(predicted_ratings, user_item_matrix)\n",
    "print(\"RMSE for Collaborative-Based Model:\", rmse_value)"
   ]
  },
  {
   "cell_type": "code",
   "execution_count": 40,
   "id": "918b53bf-ac77-45da-b1c2-5bb661759cec",
   "metadata": {},
   "outputs": [
    {
     "name": "stdout",
     "output_type": "stream",
     "text": [
      "RMSE for Popularity-Based Model: 1015.9118701787353\n"
     ]
    }
   ],
   "source": [
    "import numpy as np\n",
    "from sklearn.metrics import mean_squared_error\n",
    "from math import sqrt\n",
    "\n",
    "avg_rating_top_products = top_products['Rating'].mean()\n",
    "\n",
    "# For each user, assign this average rating as the predicted rating for the top N products they have rated\n",
    "rmse_values = []\n",
    "for user_id in filtered_data['userId'].unique():\n",
    "    user_actual_ratings = filtered_data[(filtered_data['userId'] == user_id) & (filtered_data['productId'].isin(top_products['productId']))]\n",
    "    if not user_actual_ratings.empty:\n",
    "        user_predicted_ratings = np.full(len(user_actual_ratings), avg_rating_top_products)\n",
    "        rmse_value = sqrt(mean_squared_error(user_actual_ratings['Rating'], user_predicted_ratings))\n",
    "        rmse_values.append(rmse_value)\n",
    "\n",
    "# Calculate the overall RMSE\n",
    "overall_rmse = np.mean(rmse_values)\n",
    "print(\"RMSE for Popularity-Based Model:\", overall_rmse)\n"
   ]
  },
  {
   "cell_type": "code",
   "execution_count": null,
   "id": "3fb1d6f7-d879-452a-a262-0c4476b4c0f0",
   "metadata": {},
   "outputs": [],
   "source": []
  }
 ],
 "metadata": {
  "kernelspec": {
   "display_name": "Python 3 (ipykernel)",
   "language": "python",
   "name": "python3"
  },
  "language_info": {
   "codemirror_mode": {
    "name": "ipython",
    "version": 3
   },
   "file_extension": ".py",
   "mimetype": "text/x-python",
   "name": "python",
   "nbconvert_exporter": "python",
   "pygments_lexer": "ipython3",
   "version": "3.10.10"
  }
 },
 "nbformat": 4,
 "nbformat_minor": 5
}
